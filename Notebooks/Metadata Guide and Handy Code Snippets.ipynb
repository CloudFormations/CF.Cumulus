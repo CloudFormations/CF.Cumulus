{
    "metadata": {
        "kernelspec": {
            "name": "SQL",
            "display_name": "SQL",
            "language": "sql"
        },
        "language_info": {
            "name": "sql",
            "version": ""
        }
    },
    "nbformat_minor": 2,
    "nbformat": 4,
    "cells": [
        {
            "cell_type": "markdown",
            "source": [
                "# Welcome to the ADF.procfwk Handy User Guide Notebook\r\n",
                "\r\n",
                "This Notebook provides a series of short code snippets and narrative to help developers work with processing framework metadata.\r\n",
                "\r\n",
                "![alt text](https://mrpaulandrew.files.wordpress.com/2020/03/adfprocfwk-icon.png \"ADF.procfwk Icon\")\r\n",
                "\r\n",
                "<span style=\"color:red\">Note: do not just run all cells in this Notebook. This may make unwanted changes to your deployed solution. The EXEC code is written with example values for you to update.</span>"
            ],
            "metadata": {
                "azdata_cell_guid": "be267c69-3b61-4daf-980e-0adf85f85108"
            }
        },
        {
            "cell_type": "code",
            "source": [
                "SET NOCOUNT ON;"
            ],
            "metadata": {
                "azdata_cell_guid": "4b561a97-5508-4001-9bb3-4d2ed7fe3a2f"
            },
            "outputs": [],
            "execution_count": null
        },
        {
            "cell_type": "markdown",
            "source": [
                "***\r\n",
                "# Getting Current & Previous Execution Details\r\n",
                "\r\n",
                "* The [CurrentExecution] table only contains data for processing runs that our in progress or in an incomplete state.\r\n",
                "\r\n",
                "* The [ExecutionLog] table and [CompleteExecutionLog] views contains all other log details for execution runs."
            ],
            "metadata": {
                "azdata_cell_guid": "1f574591-3c81-4fa4-ad6a-54a06aa75e2b"
            }
        },
        {
            "cell_type": "code",
            "source": [
                "SELECT * FROM [procfwk].[CurrentExecution];\r\n",
                "\r\n",
                "SELECT * FROM [procfwk].[CompleteExecutionLog];\r\n",
                "\r\n",
                "SELECT * FROM [procfwk].[LastExecution];\r\n",
                "\r\n",
                "SELECT TOP 100 * FROM [procfwk].[ExecutionLog] ORDER BY [LocalExecutionId], [StageId], [PipelineId], [StartDateTime];\r\n",
                "\r\n",
                "EXEC [procfwk].[GetExecutionDetails];"
            ],
            "metadata": {
                "azdata_cell_guid": "ad517e7c-9517-404b-9e4d-c58e4b7dbd0f"
            },
            "outputs": [],
            "execution_count": null
        },
        {
            "cell_type": "markdown",
            "source": [
                "***\r\n",
                "# Getting Error Details\r\n",
                "\r\n",
                "* The [CurrentExecution] table and the [CompleteExecutionErrorLog] view contain details of error logged for failed pipeline activities. A single pipeline can contain multiple activities that if executed in parallel may generate multiple errrors for a single pipeline Run ID."
            ],
            "metadata": {
                "azdata_cell_guid": "f6362034-9ff7-4a6d-a39f-789787d445df"
            }
        },
        {
            "cell_type": "code",
            "source": [
                "SELECT * FROM [procfwk].[ErrorLog];\r\n",
                "\r\n",
                "SELECT * FROM [procfwk].[CompleteExecutionErrorLog];\r\n",
                "\r\n",
                "EXEC [procfwk].[GetExecutionDetails];"
            ],
            "metadata": {
                "azdata_cell_guid": "5a3106a2-c3c8-4985-923e-79410022ff90"
            },
            "outputs": [],
            "execution_count": null
        },
        {
            "cell_type": "markdown",
            "source": [
                "***\r\n",
                "# Reviewing Basic Processing Metadata\r\n",
                "The following tables have been ordered as per there level within the processing framework. A logical hierarchy exists between these tables and is enforced via database constraints connecting primary and foreign keys.\r\n",
                "* Data Factory's\r\n",
                "* Stages\r\n",
                "* Pipelines\r\n",
                "* Pipeline Parameters"
            ],
            "metadata": {
                "azdata_cell_guid": "88506809-f0a5-422d-bf7f-6e6e5082a8d0"
            }
        },
        {
            "cell_type": "code",
            "source": [
                "SELECT * FROM [procfwk].[DataFactorys];\r\n",
                "\r\n",
                "SELECT * FROM [procfwk].[Stages];\r\n",
                "\r\n",
                "SELECT * FROM [procfwk].[Pipelines];\r\n",
                "\r\n",
                "SELECT * FROM [procfwk].[PipelineParameters];"
            ],
            "metadata": {
                "azdata_cell_guid": "1a77b2ec-ffa9-4d67-91db-a1fb3acb1693"
            },
            "outputs": [],
            "execution_count": null
        },
        {
            "cell_type": "markdown",
            "source": [
                "***\r\n",
                "# Review and Check Logical Pipeline Metadata Integrity\r\n",
                "\r\n",
                "The following procedure uses the optional attribute [LogicalPredecessorId] within the table [procfwk].[Pipelines] to create a chain of dependencies between processes. This chain has zero affect of the execution of the framework, but does allow data lineage chains to be reviewed and created without impacting processing.\r\n",
                "\r\n",
                "The procedure also implements a series of case statement checks against pipeline chains to advise where metadata issues may exist. For example:\r\n",
                "\r\n",
                "* Pipeline could be moved to an earlier stage if it has no predecessors and/or isn't in an earlier stage.\r\n",
                "* Dependency issue, predeccessor pipeline is currently running in the same stage as successor.\r\n",
                "* Disabled pipeline has downstream successors.\r\n",
                "* Disabled stage has downstream successors.\r\n",
                "\r\n",
                "It is recommended that these advisory points are reviewed and the logical chain of pipelines updated to inform better framework execution.\r\n",
                "\r\n",
                ""
            ],
            "metadata": {
                "azdata_cell_guid": "8fae870b-a02f-4b4b-8122-bd94e2fbd39b"
            }
        },
        {
            "cell_type": "code",
            "source": [
                "EXEC [procfwk].[CheckStageAndPiplineIntegrity];"
            ],
            "metadata": {
                "azdata_cell_guid": "eeded0ba-002d-4c6f-b4ff-1047aa38ee62"
            },
            "outputs": [],
            "execution_count": null
        },
        {
            "cell_type": "markdown",
            "source": [
                "***\r\n",
                "# Checking and Adding Framework Properties\r\n",
                "* Use the [CurrentProperties] view to check only the latest version of property values.\r\n",
                "* Use the complete [Properties] table to see all versions of framework properties with valid from and to dates.\r\n",
                "* Use the stored procedure [AddProperty] to add a new property/value or update an existing property/value.\r\n",
                "* Use the stored procedure [GetPropertyValue] to get the latest version of a single property value."
            ],
            "metadata": {
                "azdata_cell_guid": "ae575f21-e47d-4544-96c5-44e1af85c9d9"
            }
        },
        {
            "cell_type": "code",
            "source": [
                "SELECT * FROM [procfwk].[CurrentProperties];\r\n",
                "\r\n",
                "SELECT * FROM [procfwk].[Properties];\r\n",
                "\r\n",
                "EXEC [procfwk].[AddProperty] \r\n",
                "\t@PropertyName = 'TenantId',\r\n",
                "\t@PropertyValue = '1234-1234-1234-1234-1234',\r\n",
                "\t@Description = 'Used to provide authentication throughout the framework execution.';\r\n",
                "\r\n",
                "EXEC [procfwk].[GetPropertyValue]\r\n",
                "\t@PropertyName = N'TenantId';"
            ],
            "metadata": {
                "azdata_cell_guid": "e0e57080-aa45-49d6-a994-7fb83dfe4a08"
            },
            "outputs": [],
            "execution_count": null
        },
        {
            "cell_type": "markdown",
            "source": [
                "***\r\n",
                "# Checking, Getting, Adding and Deleting Service Principals\r\n",
                "\r\n",
                "To **check** which SPN details are being used follow the guidance in the framework for pipeline authentication:\r\n",
                "\r\n",
                "* The [ServicePrincipals] table in the [dbo] schema details which credentials are being used by the framework. These details are specific to an Azure Tenant. However, this table also needs to be joined with table [procfwk].[PipelineAuthLink] to better understand which credentials are being used by which Data Factory/Pipeline.\r\n",
                "\r\n",
                "To **get** actual unencrypted SPN details the stored procedure [procfwk].[GetServicePrincipal].\r\n",
                "\r\n",
                "Be careful not to change the Tenant ID property after Service Principals have been added.\r\n",
                "\r\n",
                "To **add** Service Principals use the stored procedure [procfwk].[AddServicePrincipal]. This will handle the creation of the links between Data Factory's and Pipelines.\r\n",
                "\r\n",
                "To **delete** Service Principals use the stored procedure [procfwk].[DeleteServicePrincipal]. This will also handle the removal of the links between Data Factory's and Pipelines.\r\n",
                "\r\n",
                "Also, be aware that as part of the new metadata integrity checks introduced in v1.3 of the framework. This will ensure all enabled pipelines have a valid SPN before the execution run starts."
            ],
            "metadata": {
                "azdata_cell_guid": "86d98611-0f43-4c65-bf91-ea8d3542e705"
            }
        },
        {
            "cell_type": "code",
            "source": [
                "--Checking:\r\n",
                "SELECT * FROM [dbo].[ServicePrincipals];\r\n",
                "\r\n",
                "SELECT\r\n",
                "\tSP.[PrincipalName],\r\n",
                "\tDF.[ResourceGroupName],\r\n",
                "\tDF.[DataFactoryName],\r\n",
                "\tPP.[PipelineName]\r\n",
                "FROM\r\n",
                "\t[procfwk].[PipelineAuthLink] AL\r\n",
                "\tINNER JOIN [procfwk].[DataFactorys] DF\r\n",
                "\t\tON AL.[DataFactoryId] = DF.[DataFactoryId]\r\n",
                "\tINNER JOIN [procfwk].[Pipelines] PP\r\n",
                "\t\tON AL.[PipelineId] = PP.[PipelineId]\r\n",
                "\tINNER JOIN [dbo].[ServicePrincipals] SP\r\n",
                "\t\tON AL.[CredentialId] = SP.[CredentialId];\r\n",
                "\r\n",
                "--Getting:\r\n",
                "EXEC [procfwk].[GetServicePrincipal]\r\n",
                "\t@DataFactory = 'FrameworkFactory',\r\n",
                "\t@PipelineName = 'Wait 1';\r\n",
                "\r\n",
                "--Adding:\r\n",
                "EXEC [procfwk].[AddServicePrincipal]\r\n",
                "\t@DataFactory = N'FrameworkFactory',\r\n",
                "\t@PrincipalId = N'1234-1234-1234-1234-1234',\r\n",
                "\t@PrincipalSecret = N'Passw0rd123!',\r\n",
                "\t@PrincipalName = N'ADFFrameworkExecutor',\r\n",
                "\t@SpecificPipelineName = N'Wait 1' --Optional parameter\r\n",
                "\r\n",
                "--Deleteing:\r\n",
                "EXEC [procfwk].[DeleteServicePrincipal]\r\n",
                "\t@DataFactory = N'FrameworkFactory',\r\n",
                "\t@PrincipalId = N'1234-1234-1234-1234-1234',\r\n",
                "\t@SpecificPipelineName = N'Wait 1' --Optional parameter"
            ],
            "metadata": {
                "azdata_cell_guid": "ac0c404d-5a8a-4c39-96ff-66e198fffd9f"
            },
            "outputs": [],
            "execution_count": null
        },
        {
            "cell_type": "markdown",
            "source": [
                "***\r\n",
                "# Pre Execution Metadata Integrity Checks\r\n",
                "\r\n",
                "This procedure now acts as a pass/fail check before a given framework exeuction runs starts. If any of the checks fail the Data Factory pipelines will not start and the execution run will be stalled.\r\n",
                "\r\n",
                "In debug mode details of the checks that failed can be reviewed and fixed.\r\n",
                ""
            ],
            "metadata": {
                "azdata_cell_guid": "6698a16a-026d-4ab0-bae0-5a3b0a672649"
            }
        },
        {
            "cell_type": "code",
            "source": [
                "EXEC [procfwk].[CheckMetadataIntegrity]\r\n",
                "\t@DebugMode = 1"
            ],
            "metadata": {
                "azdata_cell_guid": "f4247341-87a7-46d3-b55e-1371a48f6d81"
            },
            "outputs": [],
            "execution_count": null
        },
        {
            "cell_type": "markdown",
            "source": [
                "***\r\n",
                "# Email Alerting\r\n",
                "\r\n",
                "The following snippets provide examples on setting up alerting and adding users to the metadata.\r\n",
                "\r\n",
                "<span style=\"color:red\">Note: SMTP details need to be provided in the Application Settings of the Azure Function App for email to be sent.</span>\r\n",
                ""
            ],
            "metadata": {
                "azdata_cell_guid": "f0e2fc3b-b6d9-49be-874f-d8fd59d8c7bc"
            }
        },
        {
            "cell_type": "code",
            "source": [
                "--Is framework email alerting enabled?\r\n",
                "SELECT CASE [PropertyValue] WHEN 1 THEN 'Yes' WHEN 0 THEN 'No' ELSE 'Unknown' END AS AlertingStatus FROM [procfwk].[CurrentProperties] WHERE [PropertyName] = 'UseFrameworkEmailAlerting';\r\n",
                "\r\n",
                "--Enable framework alerting:\r\n",
                "EXEC [procfwk].[AddProperty]\r\n",
                "\t@PropertyName = N'UseFrameworkEmailAlerting',\r\n",
                "\t@PropertyValue = N'1',\r\n",
                "\t@Description = N'Do you want the framework to handle pipeline email alerts via the database metadata? 1 = Yes, 0 = No.';\r\n",
                "\r\n",
                "--List current recipients:\r\n",
                "SELECT [RecipientId], [Name], [EmailAddress], [MessagePreference], [Enabled] FROM [procfwk].[Recipients];\r\n",
                "\r\n",
                "--Add a new recipient:\r\n",
                "INSERT INTO [procfwk].[Recipients] VALUES ('Test User 3','test.user3@adfprocfwk.com', 'BCC', 1);\r\n",
                "\r\n",
                "--Add an alert link for a recipient and pipeline:\r\n",
                "EXEC [procfwk].[AddRecipientPipelineAlerts]\r\n",
                "\t@RecipientName = N'Test User 3',\r\n",
                "    @PipelineName = 'Wait 1', --optional, default = all\r\n",
                "\t@AlertForStatus = 'Success, Failed, Cancelled'; --optional, default = all\r\n",
                "\r\n",
                "--Remove recipient alerts:\r\n",
                "EXEC [procfwk].[DeleteRecipientAlerts]\r\n",
                "\t@EmailAddress = N'test.user1@adfprocfwk.com',\r\n",
                "\t@SoftDeleteOnly = 1; --soft delete sets Enabled = 0\r\n",
                "\r\n",
                "--Check a recipients alert subscriptions and preferences for all pipelines:\r\n",
                "SELECT\r\n",
                "\tr.[Name] AS RecipientName,\r\n",
                "\tp.[PipelineName],\r\n",
                "\tr.[MessagePreference],\r\n",
                "\tao.[PipelineOutcomeStatus],\r\n",
                "\tp.[Enabled] AS PipelineEnabled,\r\n",
                "\tr.[Enabled] AS RecipientEnabled,\r\n",
                "\tal.[Enabled] AS AlertLinkEnabled\r\n",
                "FROM\r\n",
                "\t[procfwk].[PipelineAlertLink] al\r\n",
                "\tINNER JOIN [procfwk].[Recipients] r\r\n",
                "\t\tON al.[RecipientId] = r.[RecipientId]\r\n",
                "\tINNER JOIN [procfwk].[Pipelines] p\r\n",
                "\t\tON al.[PipelineId] = p.[PipelineId]\r\n",
                "\tINNER JOIN [procfwk].[AlertOutcomes] ao\r\n",
                "\t\tON al.[OutcomesBitValue] & ao.[BitValue] <> 0\r\n",
                "WHERE\r\n",
                "\tr.[EmailAddress] = 'test.user3@adfprocfwk.com';\r\n",
                "\r\n",
                "--Customise the email body HTML template:\r\n",
                "DECLARE @BodyTemplate NVARCHAR(MAX) =\r\n",
                "N'<hr/><strong>Pipeline Name: </strong>##PipelineName###<br/>\r\n",
                "<strong>Status: </strong>##Status###<br/><br/>\r\n",
                "<strong>Execution ID: </strong>##ExecId###<br/>\r\n",
                "<strong>Run ID: </strong>##RunId###<br/><br/>\r\n",
                "<strong>Start Date Time: </strong>##StartDateTime###<br/>\r\n",
                "<strong>End Date Time: </strong>##EndDateTime###<br/>\r\n",
                "<strong>Duration (Minutes): </strong>##Duration###<br/><br/>\r\n",
                "<strong>Called by Data Factory: </strong>##CalledByADF###<br/>\r\n",
                "<strong>Executed by Data Factory: </strong>##ExecutedByADF###<br/><hr/>'\r\n",
                "\r\n",
                "EXEC [procfwk].[AddProperty]\r\n",
                "\t@PropertyName = N'EmailAlertBodyTemplate',\r\n",
                "\t@PropertyValue = @BodyTemplate,\r\n",
                "\t@Description = N'Custom HTML template of execution information used as the eventual body in email alerts sent.';"
            ],
            "metadata": {
                "azdata_cell_guid": "63ffc489-41e7-4ff7-8fd8-4accc2429cf2"
            },
            "outputs": [],
            "execution_count": null
        },
        {
            "cell_type": "markdown",
            "source": [
                "***\r\n",
                "# Resources and Content\r\n",
                "\r\n",
                "| ![alt text](https://mrpaulandrew.files.wordpress.com/2020/03/azure-square-logo.png?w=75 \"Blog Icon\") | Blogs |[mrpaulandrew.com/ADF.procfwk](https://mrpaulandrew.com/category/azure/data-factory/adf-procfwk/)|\r\n",
                "|:----:|:----:|:----:|\r\n",
                "| ![alt text](https://mrpaulandrew.files.wordpress.com/2018/11/github-icon.png?w=75 \"GitHub Icon\") | **GitHub** |**[github.com/mrpaulandrew/ADF.procfwk](https://github.com/mrpaulandrew/ADF.procfwk)**  |\r\n",
                "| ![alt text](https://mrpaulandrew.files.wordpress.com/2020/03/twitterlogo.png?w=75 \"Twitter Icon\") | **Twitter** |**[#ADFprocfwk](https://twitter.com/search?q=%23ADFprocfwk&amp;src=hashtag_click)** |"
            ],
            "metadata": {
                "azdata_cell_guid": "0ffd1628-cef6-41a4-b37c-133d37a01bcf"
            }
        }
    ]
}